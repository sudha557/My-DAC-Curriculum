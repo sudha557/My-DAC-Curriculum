{
 "cells": [
  {
   "cell_type": "markdown",
   "metadata": {
    "id": "ZgF659VOoiyU"
   },
   "source": [
    "## Web Scraping Tutorial\n",
    "For this assignment, using the techniques learnt in the previous session, scrape the following website: \"https://en.wikipedia.org/wiki/List_of_Asian_countries_by_area\"\n",
    "<br>For web scraping, use the following libraries\n",
    "1. BeautifulSoup\n",
    "2. requests \n",
    "3. pandas\n",
    "\n",
    "Objective: \n",
    "* Create a Dataframe containing all countries listed on the Wikipedia website\n",
    "\n",
    "Steps:\n",
    "1. Import the libraries\n",
    "* Pandas \n",
    "* Requests \n",
    "* BeautifulSoup \n",
    "2. Ping the website and return the HTML of the website\n",
    "3. Use the prettify function to view how the tags are nested in the document\n",
    "4. Find class 'sortable wikitable sticky-header col2left' in the HTML script\n",
    "5. Extract all the links within a tag using find_all().\n",
    "6. From the links found earlier, find extract the title by using the 'get' method to find the titles\n",
    "* Note: Create a list to append the countries in and name the list variable as 'countries'.\n",
    "7. Create the dataframe called df_countries\n",
    "8. Set the column ‘Country’ in df_countries to countries"
   ]
  },
  {
   "cell_type": "markdown",
   "metadata": {},
   "source": [
    "### 1. Import Libraries"
   ]
  },
  {
   "cell_type": "code",
   "execution_count": 1,
   "metadata": {},
   "outputs": [
    {
     "name": "stdout",
     "output_type": "stream",
     "text": [
      "\u001b[31mERROR: Could not find a version that satisfies the requirement urllib (from versions: none)\u001b[0m\u001b[31m\n",
      "\u001b[0m\u001b[31mERROR: No matching distribution found for urllib\u001b[0m\u001b[31m\n",
      "\u001b[0mRequirement already satisfied: bs4 in /Users/sudharaj/Desktop/My-DAC-Curriculum/.venv/lib/python3.12/site-packages (0.0.2)\n",
      "Requirement already satisfied: beautifulsoup4 in /Users/sudharaj/Desktop/My-DAC-Curriculum/.venv/lib/python3.12/site-packages (from bs4) (4.12.3)\n",
      "Requirement already satisfied: soupsieve>1.2 in /Users/sudharaj/Desktop/My-DAC-Curriculum/.venv/lib/python3.12/site-packages (from beautifulsoup4->bs4) (2.6)\n",
      "Requirement already satisfied: requests in /Users/sudharaj/Desktop/My-DAC-Curriculum/.venv/lib/python3.12/site-packages (2.32.3)\n",
      "Requirement already satisfied: charset-normalizer<4,>=2 in /Users/sudharaj/Desktop/My-DAC-Curriculum/.venv/lib/python3.12/site-packages (from requests) (3.4.0)\n",
      "Requirement already satisfied: idna<4,>=2.5 in /Users/sudharaj/Desktop/My-DAC-Curriculum/.venv/lib/python3.12/site-packages (from requests) (3.10)\n",
      "Requirement already satisfied: urllib3<3,>=1.21.1 in /Users/sudharaj/Desktop/My-DAC-Curriculum/.venv/lib/python3.12/site-packages (from requests) (2.2.3)\n",
      "Requirement already satisfied: certifi>=2017.4.17 in /Users/sudharaj/Desktop/My-DAC-Curriculum/.venv/lib/python3.12/site-packages (from requests) (2024.8.30)\n",
      "\u001b[31mERROR: Could not find a version that satisfies the requirement pprint (from versions: none)\u001b[0m\u001b[31m\n",
      "\u001b[0m\u001b[31mERROR: No matching distribution found for pprint\u001b[0m\u001b[31m\n",
      "\u001b[0m"
     ]
    }
   ],
   "source": [
    "!pip install urllib\n",
    "!pip install bs4\n",
    "!pip install requests\n",
    "!pip install pprint\n",
    "\n",
    "import pandas as pd \n",
    "import urllib\n",
    "import urllib.request \n",
    "from bs4 import BeautifulSoup\n",
    "import requests \n",
    "from pprint import pprint "
   ]
  },
  {
   "cell_type": "markdown",
   "metadata": {
    "id": "TXjpFE63dWcp"
   },
   "source": [
    "### 2. Ping the website and return the HTML of the website"
   ]
  },
  {
   "cell_type": "code",
   "execution_count": 3,
   "metadata": {},
   "outputs": [
    {
     "data": {
      "text/plain": [
       "<Response [200]>"
      ]
     },
     "execution_count": 3,
     "metadata": {},
     "output_type": "execute_result"
    }
   ],
   "source": [
    "url = \"https://en.wikipedia.org/wiki/List_of_Asian_countries_by_area\"\n",
    "page = requests.get(url)\n"
   ]
  }
 ],
 "metadata": {
  "colab": {
   "collapsed_sections": [
    "278Ax_gu2Qul",
    "d4wnSUKmp9H2",
    "TXjpFE63dWcp",
    "PU_yF8r4dwmk",
    "1myB9pO4eLwn",
    "Vxw6nc2geZSJ",
    "oWN2BlEChcd0",
    "Hq6EbKBzmzJY",
    "SgByofg-JWfE",
    "lG5h0_0lJ6j9"
   ],
   "provenance": []
  },
  "kernelspec": {
   "display_name": ".venv",
   "language": "python",
   "name": "python3"
  },
  "language_info": {
   "codemirror_mode": {
    "name": "ipython",
    "version": 3
   },
   "file_extension": ".py",
   "mimetype": "text/x-python",
   "name": "python",
   "nbconvert_exporter": "python",
   "pygments_lexer": "ipython3",
   "version": "3.12.4"
  }
 },
 "nbformat": 4,
 "nbformat_minor": 0
}
